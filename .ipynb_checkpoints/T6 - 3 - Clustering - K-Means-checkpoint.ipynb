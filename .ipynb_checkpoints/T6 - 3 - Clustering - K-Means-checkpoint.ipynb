{
 "cells": [
  {
   "cell_type": "markdown",
   "metadata": {},
   "source": [
    "# El método k-means"
   ]
  },
  {
   "cell_type": "code",
   "execution_count": 24,
   "metadata": {},
   "outputs": [],
   "source": [
    "import numpy as np"
   ]
  },
  {
   "cell_type": "code",
   "execution_count": 25,
   "metadata": {},
   "outputs": [
    {
     "data": {
      "text/plain": [
       "array([[0.84403311, 0.52492462, 0.05163026],\n",
       "       [0.33035555, 0.84367878, 0.78651004],\n",
       "       [0.65314313, 0.5755107 , 0.94670367],\n",
       "       [0.0956506 , 0.32486401, 0.5594977 ],\n",
       "       [0.04435525, 0.07018361, 0.34006977],\n",
       "       [0.68308058, 0.70434076, 0.80652742],\n",
       "       [0.65070453, 0.9593452 , 0.16837466],\n",
       "       [0.32088828, 0.27105495, 0.81905137],\n",
       "       [0.27290435, 0.0444674 , 0.07910365],\n",
       "       [0.57093042, 0.84877274, 0.48681318],\n",
       "       [0.63675414, 0.56933472, 0.66241774],\n",
       "       [0.97133477, 0.64433857, 0.78029128],\n",
       "       [0.79826931, 0.59003207, 0.18676372],\n",
       "       [0.69056743, 0.70421301, 0.23729191],\n",
       "       [0.94475359, 0.29824697, 0.94739614],\n",
       "       [0.89345187, 0.02257361, 0.09619094],\n",
       "       [0.01314542, 0.36740187, 0.8966662 ],\n",
       "       [0.29651819, 0.7510445 , 0.86074345],\n",
       "       [0.72941196, 0.82459789, 0.02207196],\n",
       "       [0.70666012, 0.43989327, 0.1399263 ],\n",
       "       [0.45954076, 0.66323978, 0.39355295],\n",
       "       [0.60359513, 0.44982005, 0.6528012 ],\n",
       "       [0.06402678, 0.37665825, 0.01241552],\n",
       "       [0.22397209, 0.49488428, 0.08230005],\n",
       "       [0.73560246, 0.13430462, 0.90689755],\n",
       "       [0.82676891, 0.23120798, 0.2882935 ],\n",
       "       [0.89314364, 0.65216956, 0.96727553],\n",
       "       [0.02354965, 0.35760319, 0.23243807],\n",
       "       [0.20493599, 0.0509806 , 0.897312  ],\n",
       "       [0.23519464, 0.14092708, 0.44964419]])"
      ]
     },
     "execution_count": 25,
     "metadata": {},
     "output_type": "execute_result"
    }
   ],
   "source": [
    "data=np.random.random(90).reshape(30,3)\n",
    "data"
   ]
  },
  {
   "cell_type": "code",
   "execution_count": 26,
   "metadata": {},
   "outputs": [],
   "source": [
    "cluster_centers=np.array([data[np.random.choice(range(len(data)))].tolist() for i in range(0,2)])"
   ]
  },
  {
   "cell_type": "code",
   "execution_count": 27,
   "metadata": {},
   "outputs": [
    {
     "data": {
      "text/plain": [
       "array([[0.04435525, 0.07018361, 0.34006977],\n",
       "       [0.60359513, 0.44982005, 0.6528012 ]])"
      ]
     },
     "execution_count": 27,
     "metadata": {},
     "output_type": "execute_result"
    }
   ],
   "source": [
    "cluster_centers"
   ]
  },
  {
   "cell_type": "code",
   "execution_count": 28,
   "metadata": {},
   "outputs": [],
   "source": [
    "from scipy.cluster.vq import vq"
   ]
  },
  {
   "cell_type": "code",
   "execution_count": 29,
   "metadata": {},
   "outputs": [
    {
     "data": {
      "text/plain": [
       "(array([1, 1, 1, 0, 0, 1, 1, 1, 0, 1, 1, 1, 1, 1, 1, 1, 0, 1, 1, 1, 1, 1,\n",
       "        0, 0, 1, 1, 1, 0, 0, 0], dtype=int32),\n",
       " array([0.65181103, 0.49765714, 0.3234684 , 0.34006166, 0.        ,\n",
       "        0.30778318, 0.70463057, 0.37352275, 0.34784958, 0.4333385 ,\n",
       "        0.12440158, 0.43511334, 0.52416446, 0.49490194, 0.47555197,\n",
       "        0.7591913 , 0.63175337, 0.47777861, 0.74438409, 0.52322232,\n",
       "        0.36538924, 0.        , 0.44907792, 0.52827843, 0.42607613,\n",
       "        0.48006628, 0.47294584, 0.30761577, 0.58023602, 0.23115117]))"
      ]
     },
     "execution_count": 29,
     "metadata": {},
     "output_type": "execute_result"
    }
   ],
   "source": [
    "vq(data,cluster_centers)"
   ]
  },
  {
   "cell_type": "markdown",
   "metadata": {},
   "source": [
    "- El primer array significa a que cluster pertenece cada observación\n",
    "- El segundo array da la distancia de cada una de las observaciones del baricentro de cada cluster final en el que está."
   ]
  },
  {
   "cell_type": "code",
   "execution_count": 30,
   "metadata": {},
   "outputs": [
    {
     "data": {
      "text/plain": [
       "(array([[0.1498623 , 0.24990252, 0.43684985],\n",
       "        [0.69593098, 0.57157947, 0.51942367]]), 0.40410891220793954)"
      ]
     },
     "execution_count": 30,
     "metadata": {},
     "output_type": "execute_result"
    }
   ],
   "source": [
    "from scipy.cluster.vq import kmeans\n",
    "kmeans(data,cluster_centers)"
   ]
  },
  {
   "cell_type": "markdown",
   "metadata": {},
   "source": [
    "- El primer array habla acerca de los baricentros de cada cluster\n",
    "- El número al final es la suma de los cuadrados de los errores (normalizandolos con la suma total de los valores al baricentro global), entre más cercano al cero mejor.\n",
    "\n",
    "**Kmeans** también funciona muy bien con el número de clusters que se ordene."
   ]
  },
  {
   "cell_type": "code",
   "execution_count": 31,
   "metadata": {},
   "outputs": [
    {
     "data": {
      "text/plain": [
       "(array([[0.69593098, 0.57157947, 0.51942367],\n",
       "        [0.1498623 , 0.24990252, 0.43684985]]), 0.40410891220793954)"
      ]
     },
     "execution_count": 31,
     "metadata": {},
     "output_type": "execute_result"
    }
   ],
   "source": [
    "kmeans(data,2)"
   ]
  },
  {
   "cell_type": "code",
   "execution_count": null,
   "metadata": {},
   "outputs": [],
   "source": []
  }
 ],
 "metadata": {
  "kernelspec": {
   "display_name": "Python 3",
   "language": "python",
   "name": "python3"
  },
  "language_info": {
   "codemirror_mode": {
    "name": "ipython",
    "version": 3
   },
   "file_extension": ".py",
   "mimetype": "text/x-python",
   "name": "python",
   "nbconvert_exporter": "python",
   "pygments_lexer": "ipython3",
   "version": "3.6.8"
  },
  "toc": {
   "base_numbering": 1,
   "nav_menu": {},
   "number_sections": true,
   "sideBar": true,
   "skip_h1_title": false,
   "title_cell": "Table of Contents",
   "title_sidebar": "Contents",
   "toc_cell": false,
   "toc_position": {},
   "toc_section_display": true,
   "toc_window_display": false
  }
 },
 "nbformat": 4,
 "nbformat_minor": 2
}
