{
 "cells": [
  {
   "cell_type": "markdown",
   "metadata": {},
   "source": [
    "# Modelos de Regresión Lineal\n",
    "## Modelos con datos simulados\n",
    "\n",
    "$Y=\\alpha+\\beta X$\n",
    "\n",
    "X:100 valores distribuidos según una normal con media 1.5 y desviación 2.5\n",
    "\n",
    "$Y=5+1.9*X + \\epsilon$\n",
    "\n",
    "$\\epsilon$ está distribuído según una N(0,0.8)"
   ]
  },
  {
   "cell_type": "code",
   "execution_count": 32,
   "metadata": {},
   "outputs": [],
   "source": [
    "import pandas as pd\n",
    "import numpy as np\n",
    "import matplotlib.pyplot as plt"
   ]
  },
  {
   "cell_type": "code",
   "execution_count": 66,
   "metadata": {},
   "outputs": [],
   "source": [
    "x=1.5+2.5*np.random.randn(100)"
   ]
  },
  {
   "cell_type": "code",
   "execution_count": 67,
   "metadata": {},
   "outputs": [],
   "source": [
    "res=0+0.8*np.random.randn(100)"
   ]
  },
  {
   "cell_type": "code",
   "execution_count": 68,
   "metadata": {},
   "outputs": [],
   "source": [
    "y_pred=5+2.8*x\n",
    "y_act=5+2.8*x+res"
   ]
  },
  {
   "cell_type": "code",
   "execution_count": 69,
   "metadata": {},
   "outputs": [],
   "source": [
    "data=pd.DataFrame(\n",
    "    {\"x\":x.tolist(),\n",
    "     \"y_act\":y_act.tolist(),\n",
    "     \"y_pred\":y_pred.tolist(),\n",
    "    }\n",
    "    )"
   ]
  },
  {
   "cell_type": "code",
   "execution_count": 70,
   "metadata": {},
   "outputs": [
    {
     "data": {
      "text/html": [
       "<div>\n",
       "<style scoped>\n",
       "    .dataframe tbody tr th:only-of-type {\n",
       "        vertical-align: middle;\n",
       "    }\n",
       "\n",
       "    .dataframe tbody tr th {\n",
       "        vertical-align: top;\n",
       "    }\n",
       "\n",
       "    .dataframe thead th {\n",
       "        text-align: right;\n",
       "    }\n",
       "</style>\n",
       "<table border=\"1\" class=\"dataframe\">\n",
       "  <thead>\n",
       "    <tr style=\"text-align: right;\">\n",
       "      <th></th>\n",
       "      <th>x</th>\n",
       "      <th>y_act</th>\n",
       "      <th>y_pred</th>\n",
       "    </tr>\n",
       "  </thead>\n",
       "  <tbody>\n",
       "    <tr>\n",
       "      <th>0</th>\n",
       "      <td>-3.710247</td>\n",
       "      <td>-5.791908</td>\n",
       "      <td>-5.388691</td>\n",
       "    </tr>\n",
       "    <tr>\n",
       "      <th>1</th>\n",
       "      <td>4.640003</td>\n",
       "      <td>17.906376</td>\n",
       "      <td>17.992008</td>\n",
       "    </tr>\n",
       "    <tr>\n",
       "      <th>2</th>\n",
       "      <td>3.780662</td>\n",
       "      <td>15.591119</td>\n",
       "      <td>15.585853</td>\n",
       "    </tr>\n",
       "    <tr>\n",
       "      <th>3</th>\n",
       "      <td>5.279585</td>\n",
       "      <td>17.591745</td>\n",
       "      <td>19.782838</td>\n",
       "    </tr>\n",
       "    <tr>\n",
       "      <th>4</th>\n",
       "      <td>-0.061602</td>\n",
       "      <td>5.303374</td>\n",
       "      <td>4.827513</td>\n",
       "    </tr>\n",
       "    <tr>\n",
       "      <th>...</th>\n",
       "      <td>...</td>\n",
       "      <td>...</td>\n",
       "      <td>...</td>\n",
       "    </tr>\n",
       "    <tr>\n",
       "      <th>95</th>\n",
       "      <td>6.201527</td>\n",
       "      <td>22.702186</td>\n",
       "      <td>22.364275</td>\n",
       "    </tr>\n",
       "    <tr>\n",
       "      <th>96</th>\n",
       "      <td>0.676909</td>\n",
       "      <td>7.370178</td>\n",
       "      <td>6.895346</td>\n",
       "    </tr>\n",
       "    <tr>\n",
       "      <th>97</th>\n",
       "      <td>0.134579</td>\n",
       "      <td>5.825537</td>\n",
       "      <td>5.376822</td>\n",
       "    </tr>\n",
       "    <tr>\n",
       "      <th>98</th>\n",
       "      <td>-1.386763</td>\n",
       "      <td>0.775243</td>\n",
       "      <td>1.117064</td>\n",
       "    </tr>\n",
       "    <tr>\n",
       "      <th>99</th>\n",
       "      <td>1.795293</td>\n",
       "      <td>9.891360</td>\n",
       "      <td>10.026820</td>\n",
       "    </tr>\n",
       "  </tbody>\n",
       "</table>\n",
       "<p>100 rows × 3 columns</p>\n",
       "</div>"
      ],
      "text/plain": [
       "           x      y_act     y_pred\n",
       "0  -3.710247  -5.791908  -5.388691\n",
       "1   4.640003  17.906376  17.992008\n",
       "2   3.780662  15.591119  15.585853\n",
       "3   5.279585  17.591745  19.782838\n",
       "4  -0.061602   5.303374   4.827513\n",
       "..       ...        ...        ...\n",
       "95  6.201527  22.702186  22.364275\n",
       "96  0.676909   7.370178   6.895346\n",
       "97  0.134579   5.825537   5.376822\n",
       "98 -1.386763   0.775243   1.117064\n",
       "99  1.795293   9.891360  10.026820\n",
       "\n",
       "[100 rows x 3 columns]"
      ]
     },
     "execution_count": 70,
     "metadata": {},
     "output_type": "execute_result"
    }
   ],
   "source": [
    "data"
   ]
  },
  {
   "cell_type": "code",
   "execution_count": 71,
   "metadata": {},
   "outputs": [],
   "source": [
    "y_mean=[np.mean(y_act) for i in range(1,len(x)+1)]"
   ]
  },
  {
   "cell_type": "code",
   "execution_count": 72,
   "metadata": {},
   "outputs": [
    {
     "data": {
      "text/plain": [
       "[<matplotlib.lines.Line2D at 0x7efd70319860>]"
      ]
     },
     "execution_count": 72,
     "metadata": {},
     "output_type": "execute_result"
    },
    {
     "data": {
      "image/png": "[encoded data removed]",
      "text/plain": [
       "<Figure size 432x288 with 1 Axes>"
      ]
     },
     "metadata": {
      "needs_background": "light"
     },
     "output_type": "display_data"
    }
   ],
   "source": [
    "plt.plot(x,y_pred)\n",
    "plt.plot(x,y_act,'ro')\n",
    "plt.title(\"Valor actual vs predicción\")\n",
    "plt.plot(x,y_mean,'g')"
   ]
  },
  {
   "cell_type": "code",
   "execution_count": 73,
   "metadata": {},
   "outputs": [],
   "source": [
    "data[\"SSR\"]=(data.y_pred-np.mean(y_act))**2\n",
    "data[\"SST\"]=(data.y_act-np.mean(y_act))**2\n",
    "data[\"SSD\"]=(data.y_pred-y_act)**2"
   ]
  },
  {
   "cell_type": "code",
   "execution_count": 74,
   "metadata": {},
   "outputs": [
    {
     "data": {
      "text/html": [
       "<div>\n",
       "<style scoped>\n",
       "    .dataframe tbody tr th:only-of-type {\n",
       "        vertical-align: middle;\n",
       "    }\n",
       "\n",
       "    .dataframe tbody tr th {\n",
       "        vertical-align: top;\n",
       "    }\n",
       "\n",
       "    .dataframe thead th {\n",
       "        text-align: right;\n",
       "    }\n",
       "</style>\n",
       "<table border=\"1\" class=\"dataframe\">\n",
       "  <thead>\n",
       "    <tr style=\"text-align: right;\">\n",
       "      <th></th>\n",
       "      <th>x</th>\n",
       "      <th>y_act</th>\n",
       "      <th>y_pred</th>\n",
       "      <th>SSR</th>\n",
       "      <th>SST</th>\n",
       "      <th>SSD</th>\n",
       "    </tr>\n",
       "  </thead>\n",
       "  <tbody>\n",
       "    <tr>\n",
       "      <th>0</th>\n",
       "      <td>-3.710247</td>\n",
       "      <td>-5.791908</td>\n",
       "      <td>-5.388691</td>\n",
       "      <td>205.119345</td>\n",
       "      <td>216.831649</td>\n",
       "      <td>0.162583</td>\n",
       "    </tr>\n",
       "    <tr>\n",
       "      <th>1</th>\n",
       "      <td>4.640003</td>\n",
       "      <td>17.906376</td>\n",
       "      <td>17.992008</td>\n",
       "      <td>82.060249</td>\n",
       "      <td>80.516149</td>\n",
       "      <td>0.007333</td>\n",
       "    </tr>\n",
       "    <tr>\n",
       "      <th>2</th>\n",
       "      <td>3.780662</td>\n",
       "      <td>15.591119</td>\n",
       "      <td>15.585853</td>\n",
       "      <td>44.256507</td>\n",
       "      <td>44.326594</td>\n",
       "      <td>0.000028</td>\n",
       "    </tr>\n",
       "    <tr>\n",
       "      <th>3</th>\n",
       "      <td>5.279585</td>\n",
       "      <td>17.591745</td>\n",
       "      <td>19.782838</td>\n",
       "      <td>117.712555</td>\n",
       "      <td>74.968728</td>\n",
       "      <td>4.800890</td>\n",
       "    </tr>\n",
       "    <tr>\n",
       "      <th>4</th>\n",
       "      <td>-0.061602</td>\n",
       "      <td>5.303374</td>\n",
       "      <td>4.827513</td>\n",
       "      <td>16.857457</td>\n",
       "      <td>13.176342</td>\n",
       "      <td>0.226443</td>\n",
       "    </tr>\n",
       "    <tr>\n",
       "      <th>...</th>\n",
       "      <td>...</td>\n",
       "      <td>...</td>\n",
       "      <td>...</td>\n",
       "      <td>...</td>\n",
       "      <td>...</td>\n",
       "      <td>...</td>\n",
       "    </tr>\n",
       "    <tr>\n",
       "      <th>95</th>\n",
       "      <td>6.201527</td>\n",
       "      <td>22.702186</td>\n",
       "      <td>22.364275</td>\n",
       "      <td>180.391165</td>\n",
       "      <td>189.582324</td>\n",
       "      <td>0.114184</td>\n",
       "    </tr>\n",
       "    <tr>\n",
       "      <th>96</th>\n",
       "      <td>0.676909</td>\n",
       "      <td>7.370178</td>\n",
       "      <td>6.895346</td>\n",
       "      <td>4.153245</td>\n",
       "      <td>2.443340</td>\n",
       "      <td>0.225466</td>\n",
       "    </tr>\n",
       "    <tr>\n",
       "      <th>97</th>\n",
       "      <td>0.134579</td>\n",
       "      <td>5.825537</td>\n",
       "      <td>5.376822</td>\n",
       "      <td>12.648512</td>\n",
       "      <td>9.658173</td>\n",
       "      <td>0.201345</td>\n",
       "    </tr>\n",
       "    <tr>\n",
       "      <th>98</th>\n",
       "      <td>-1.386763</td>\n",
       "      <td>0.775243</td>\n",
       "      <td>1.117064</td>\n",
       "      <td>61.093500</td>\n",
       "      <td>66.553839</td>\n",
       "      <td>0.116841</td>\n",
       "    </tr>\n",
       "    <tr>\n",
       "      <th>99</th>\n",
       "      <td>1.795293</td>\n",
       "      <td>9.891360</td>\n",
       "      <td>10.026820</td>\n",
       "      <td>1.195793</td>\n",
       "      <td>0.917885</td>\n",
       "      <td>0.018349</td>\n",
       "    </tr>\n",
       "  </tbody>\n",
       "</table>\n",
       "<p>100 rows × 6 columns</p>\n",
       "</div>"
      ],
      "text/plain": [
       "           x      y_act     y_pred         SSR         SST       SSD\n",
       "0  -3.710247  -5.791908  -5.388691  205.119345  216.831649  0.162583\n",
       "1   4.640003  17.906376  17.992008   82.060249   80.516149  0.007333\n",
       "2   3.780662  15.591119  15.585853   44.256507   44.326594  0.000028\n",
       "3   5.279585  17.591745  19.782838  117.712555   74.968728  4.800890\n",
       "4  -0.061602   5.303374   4.827513   16.857457   13.176342  0.226443\n",
       "..       ...        ...        ...         ...         ...       ...\n",
       "95  6.201527  22.702186  22.364275  180.391165  189.582324  0.114184\n",
       "96  0.676909   7.370178   6.895346    4.153245    2.443340  0.225466\n",
       "97  0.134579   5.825537   5.376822   12.648512    9.658173  0.201345\n",
       "98 -1.386763   0.775243   1.117064   61.093500   66.553839  0.116841\n",
       "99  1.795293   9.891360  10.026820    1.195793    0.917885  0.018349\n",
       "\n",
       "[100 rows x 6 columns]"
      ]
     },
     "execution_count": 74,
     "metadata": {},
     "output_type": "execute_result"
    }
   ],
   "source": [
    "data"
   ]
  },
  {
   "cell_type": "code",
   "execution_count": 75,
   "metadata": {},
   "outputs": [
    {
     "data": {
      "text/plain": [
       "(5240.787641807268, 72.62292194887115, 5330.609179012229)"
      ]
     },
     "execution_count": 75,
     "metadata": {},
     "output_type": "execute_result"
    }
   ],
   "source": [
    "sum(data.SSR),sum(data.SSD),sum(data.SST)\n"
   ]
  },
  {
   "cell_type": "code",
   "execution_count": 76,
   "metadata": {},
   "outputs": [
    {
     "data": {
      "text/plain": [
       "5313.41056375614"
      ]
     },
     "execution_count": 76,
     "metadata": {},
     "output_type": "execute_result"
    }
   ],
   "source": [
    "sum(data.SSR)+sum(data.SSD)"
   ]
  },
  {
   "cell_type": "code",
   "execution_count": 77,
   "metadata": {},
   "outputs": [
    {
     "data": {
      "text/plain": [
       "0.983149855074987"
      ]
     },
     "execution_count": 77,
     "metadata": {},
     "output_type": "execute_result"
    }
   ],
   "source": [
    "R2=sum(data.SSR)/sum(data.SST)\n",
    "R2"
   ]
  },
  {
   "cell_type": "code",
   "execution_count": 78,
   "metadata": {},
   "outputs": [
    {
     "data": {
      "text/plain": [
       "(array([ 1.,  1.,  5.,  5., 26., 21., 17., 12.,  8.,  4.]),\n",
       " array([-2.42163771, -1.96036461, -1.49909151, -1.0378184 , -0.5765453 ,\n",
       "        -0.1152722 ,  0.34600091,  0.80727401,  1.26854711,  1.72982021,\n",
       "         2.19109332]),\n",
       " <a list of 10 Patch objects>)"
      ]
     },
     "execution_count": 78,
     "metadata": {},
     "output_type": "execute_result"
    },
    {
     "data": {
      "image/png": "[encoded data removed]",
      "text/plain": [
       "<Figure size 432x288 with 1 Axes>"
      ]
     },
     "metadata": {
      "needs_background": "light"
     },
     "output_type": "display_data"
    }
   ],
   "source": [
    "plt.hist(data.y_pred-y_act)"
   ]
  },
  {
   "cell_type": "markdown",
   "metadata": {},
   "source": [
    "\\begin{equation}\n",
    "SST=SSR+SSD\n",
    "\\end{equation}\n",
    "\n",
    "La ecuación anterior sólo se cumple con los parámetros óptimos de la regresión."
   ]
  },
  {
   "cell_type": "markdown",
   "metadata": {},
   "source": [
    "El valor de $R^2$ es el valor que es capaz de ser interpretado por la regresión $1-R^2$ indica ese porcentaje de datos que tienen un error no explicable por el modelo."
   ]
  },
  {
   "cell_type": "markdown",
   "metadata": {},
   "source": [
    "# Obteniendo la recta de regresión"
   ]
  },
  {
   "cell_type": "markdown",
   "metadata": {},
   "source": [
    "\\begin{equation}\n",
    "Y=\\alpha+\\beta*X\\\\\n",
    "\\beta=\\frac{\\sum_{i=1}^{n}(x_{i}-\\overline{x})(y_{i}-\\overline{y})}{\\sum_{i=1}^{n}(x_{i}-\\overline{x})^{2}}\\\\\n",
    "\\alpha=\\overline{y}-\\beta \\overline{X}\n",
    "\\end{equation}"
   ]
  },
  {
   "cell_type": "code",
   "execution_count": 79,
   "metadata": {},
   "outputs": [],
   "source": [
    "x_mean=np.mean(data.x)\n",
    "y_mean=np.mean(data.y_act)"
   ]
  },
  {
   "cell_type": "code",
   "execution_count": 80,
   "metadata": {},
   "outputs": [],
   "source": [
    "data[\"beta_n\"]=(data.x-x_mean)*(data.y_act-y_mean)\n",
    "data[\"beta_d\"]=(data.x-x_mean)**2"
   ]
  },
  {
   "cell_type": "code",
   "execution_count": 81,
   "metadata": {},
   "outputs": [
    {
     "data": {
      "text/plain": [
       "(4.7986220247814035, 2.80656255063415)"
      ]
     },
     "execution_count": 81,
     "metadata": {},
     "output_type": "execute_result"
    }
   ],
   "source": [
    "beta=sum(data.beta_n)/sum(data.beta_d)\n",
    "alpha=y_mean-beta*x_mean\n",
    "alpha,beta"
   ]
  },
  {
   "cell_type": "markdown",
   "metadata": {},
   "source": [
    "El modelo lineal obtenido por la regresión $4.946441214652191 + 1.928281316863629*X$"
   ]
  },
  {
   "cell_type": "code",
   "execution_count": 82,
   "metadata": {},
   "outputs": [],
   "source": [
    "data[\"y_model\"]=alpha+beta*data.x"
   ]
  },
  {
   "cell_type": "code",
   "execution_count": 83,
   "metadata": {},
   "outputs": [
    {
     "data": {
      "text/html": [
       "<div>\n",
       "<style scoped>\n",
       "    .dataframe tbody tr th:only-of-type {\n",
       "        vertical-align: middle;\n",
       "    }\n",
       "\n",
       "    .dataframe tbody tr th {\n",
       "        vertical-align: top;\n",
       "    }\n",
       "\n",
       "    .dataframe thead th {\n",
       "        text-align: right;\n",
       "    }\n",
       "</style>\n",
       "<table border=\"1\" class=\"dataframe\">\n",
       "  <thead>\n",
       "    <tr style=\"text-align: right;\">\n",
       "      <th></th>\n",
       "      <th>x</th>\n",
       "      <th>y_act</th>\n",
       "      <th>y_pred</th>\n",
       "      <th>SSR</th>\n",
       "      <th>SST</th>\n",
       "      <th>SSD</th>\n",
       "      <th>beta_n</th>\n",
       "      <th>beta_d</th>\n",
       "      <th>y_model</th>\n",
       "    </tr>\n",
       "  </thead>\n",
       "  <tbody>\n",
       "    <tr>\n",
       "      <th>0</th>\n",
       "      <td>-3.710247</td>\n",
       "      <td>-5.791908</td>\n",
       "      <td>-5.388691</td>\n",
       "      <td>205.119345</td>\n",
       "      <td>216.831649</td>\n",
       "      <td>0.162583</td>\n",
       "      <td>76.327562</td>\n",
       "      <td>26.868295</td>\n",
       "      <td>-5.614418</td>\n",
       "    </tr>\n",
       "    <tr>\n",
       "      <th>1</th>\n",
       "      <td>4.640003</td>\n",
       "      <td>17.906376</td>\n",
       "      <td>17.992008</td>\n",
       "      <td>82.060249</td>\n",
       "      <td>80.516149</td>\n",
       "      <td>0.007333</td>\n",
       "      <td>28.415823</td>\n",
       "      <td>10.028535</td>\n",
       "      <td>17.821080</td>\n",
       "    </tr>\n",
       "    <tr>\n",
       "      <th>2</th>\n",
       "      <td>3.780662</td>\n",
       "      <td>15.591119</td>\n",
       "      <td>15.585853</td>\n",
       "      <td>44.256507</td>\n",
       "      <td>44.326594</td>\n",
       "      <td>0.000028</td>\n",
       "      <td>15.362559</td>\n",
       "      <td>5.324303</td>\n",
       "      <td>15.409286</td>\n",
       "    </tr>\n",
       "    <tr>\n",
       "      <th>3</th>\n",
       "      <td>5.279585</td>\n",
       "      <td>17.591745</td>\n",
       "      <td>19.782838</td>\n",
       "      <td>117.712555</td>\n",
       "      <td>74.968728</td>\n",
       "      <td>4.800890</td>\n",
       "      <td>32.957245</td>\n",
       "      <td>14.488441</td>\n",
       "      <td>19.616108</td>\n",
       "    </tr>\n",
       "    <tr>\n",
       "      <th>4</th>\n",
       "      <td>-0.061602</td>\n",
       "      <td>5.303374</td>\n",
       "      <td>4.827513</td>\n",
       "      <td>16.857457</td>\n",
       "      <td>13.176342</td>\n",
       "      <td>0.226443</td>\n",
       "      <td>5.571275</td>\n",
       "      <td>2.355669</td>\n",
       "      <td>4.625731</td>\n",
       "    </tr>\n",
       "    <tr>\n",
       "      <th>...</th>\n",
       "      <td>...</td>\n",
       "      <td>...</td>\n",
       "      <td>...</td>\n",
       "      <td>...</td>\n",
       "      <td>...</td>\n",
       "      <td>...</td>\n",
       "      <td>...</td>\n",
       "      <td>...</td>\n",
       "      <td>...</td>\n",
       "    </tr>\n",
       "    <tr>\n",
       "      <th>95</th>\n",
       "      <td>6.201527</td>\n",
       "      <td>22.702186</td>\n",
       "      <td>22.364275</td>\n",
       "      <td>180.391165</td>\n",
       "      <td>189.582324</td>\n",
       "      <td>0.114184</td>\n",
       "      <td>65.103578</td>\n",
       "      <td>22.356915</td>\n",
       "      <td>22.203594</td>\n",
       "    </tr>\n",
       "    <tr>\n",
       "      <th>96</th>\n",
       "      <td>0.676909</td>\n",
       "      <td>7.370178</td>\n",
       "      <td>6.895346</td>\n",
       "      <td>4.153245</td>\n",
       "      <td>2.443340</td>\n",
       "      <td>0.225466</td>\n",
       "      <td>1.244723</td>\n",
       "      <td>0.634106</td>\n",
       "      <td>6.698410</td>\n",
       "    </tr>\n",
       "    <tr>\n",
       "      <th>97</th>\n",
       "      <td>0.134579</td>\n",
       "      <td>5.825537</td>\n",
       "      <td>5.376822</td>\n",
       "      <td>12.648512</td>\n",
       "      <td>9.658173</td>\n",
       "      <td>0.201345</td>\n",
       "      <td>4.160164</td>\n",
       "      <td>1.791950</td>\n",
       "      <td>5.176327</td>\n",
       "    </tr>\n",
       "    <tr>\n",
       "      <th>98</th>\n",
       "      <td>-1.386763</td>\n",
       "      <td>0.775243</td>\n",
       "      <td>1.117064</td>\n",
       "      <td>61.093500</td>\n",
       "      <td>66.553839</td>\n",
       "      <td>0.116841</td>\n",
       "      <td>23.331867</td>\n",
       "      <td>8.179484</td>\n",
       "      <td>0.906585</td>\n",
       "    </tr>\n",
       "    <tr>\n",
       "      <th>99</th>\n",
       "      <td>1.795293</td>\n",
       "      <td>9.891360</td>\n",
       "      <td>10.026820</td>\n",
       "      <td>1.195793</td>\n",
       "      <td>0.917885</td>\n",
       "      <td>0.018349</td>\n",
       "      <td>0.308569</td>\n",
       "      <td>0.103733</td>\n",
       "      <td>9.837224</td>\n",
       "    </tr>\n",
       "  </tbody>\n",
       "</table>\n",
       "<p>100 rows × 9 columns</p>\n",
       "</div>"
      ],
      "text/plain": [
       "           x      y_act     y_pred         SSR         SST       SSD  \\\n",
       "0  -3.710247  -5.791908  -5.388691  205.119345  216.831649  0.162583   \n",
       "1   4.640003  17.906376  17.992008   82.060249   80.516149  0.007333   \n",
       "2   3.780662  15.591119  15.585853   44.256507   44.326594  0.000028   \n",
       "3   5.279585  17.591745  19.782838  117.712555   74.968728  4.800890   \n",
       "4  -0.061602   5.303374   4.827513   16.857457   13.176342  0.226443   \n",
       "..       ...        ...        ...         ...         ...       ...   \n",
       "95  6.201527  22.702186  22.364275  180.391165  189.582324  0.114184   \n",
       "96  0.676909   7.370178   6.895346    4.153245    2.443340  0.225466   \n",
       "97  0.134579   5.825537   5.376822   12.648512    9.658173  0.201345   \n",
       "98 -1.386763   0.775243   1.117064   61.093500   66.553839  0.116841   \n",
       "99  1.795293   9.891360  10.026820    1.195793    0.917885  0.018349   \n",
       "\n",
       "       beta_n     beta_d    y_model  \n",
       "0   76.327562  26.868295  -5.614418  \n",
       "1   28.415823  10.028535  17.821080  \n",
       "2   15.362559   5.324303  15.409286  \n",
       "3   32.957245  14.488441  19.616108  \n",
       "4    5.571275   2.355669   4.625731  \n",
       "..        ...        ...        ...  \n",
       "95  65.103578  22.356915  22.203594  \n",
       "96   1.244723   0.634106   6.698410  \n",
       "97   4.160164   1.791950   5.176327  \n",
       "98  23.331867   8.179484   0.906585  \n",
       "99   0.308569   0.103733   9.837224  \n",
       "\n",
       "[100 rows x 9 columns]"
      ]
     },
     "execution_count": 83,
     "metadata": {},
     "output_type": "execute_result"
    }
   ],
   "source": [
    "data"
   ]
  },
  {
   "cell_type": "code",
   "execution_count": 84,
   "metadata": {},
   "outputs": [],
   "source": [
    "SSR=sum((data.y_model-y_mean)**2)\n",
    "SST=sum((data.y_act-np.mean(y_act))**2)\n",
    "SSD=sum((data.y_model-y_act)**2)"
   ]
  },
  {
   "cell_type": "code",
   "execution_count": 85,
   "metadata": {},
   "outputs": [
    {
     "data": {
      "text/plain": [
       "(5261.690295025998, 68.91888398623135, 5330.609179012229)"
      ]
     },
     "execution_count": 85,
     "metadata": {},
     "output_type": "execute_result"
    }
   ],
   "source": [
    "SSR,SSD,SST"
   ]
  },
  {
   "cell_type": "code",
   "execution_count": 86,
   "metadata": {},
   "outputs": [
    {
     "data": {
      "text/plain": [
       "0.9870711054455878"
      ]
     },
     "execution_count": 86,
     "metadata": {},
     "output_type": "execute_result"
    }
   ],
   "source": [
    "R2=SSR/SST\n",
    "R2"
   ]
  },
  {
   "cell_type": "code",
   "execution_count": 91,
   "metadata": {},
   "outputs": [
    {
     "data": {
      "text/plain": [
       "[<matplotlib.lines.Line2D at 0x7efd6fbad160>]"
      ]
     },
     "execution_count": 91,
     "metadata": {},
     "output_type": "execute_result"
    },
    {
     "data": {
      "image/png": "[encoded data removed]",
      "text/plain": [
       "<Figure size 432x288 with 1 Axes>"
      ]
     },
     "metadata": {
      "needs_background": "light"
     },
     "output_type": "display_data"
    }
   ],
   "source": [
    "y_mean=[np.mean(y_act) for i in range(1,len(x)+1)]\n",
    "plt.plot(x,y_pred)\n",
    "plt.plot(x,data.y_act,'ro')\n",
    "plt.plot(x,data.y_model,'b')\n",
    "plt.title(\"Valor actual vs modelo\")\n",
    "plt.plot(x,y_mean,'g')"
   ]
  },
  {
   "cell_type": "markdown",
   "metadata": {},
   "source": [
    "* Seleccionar alguna variable y descartar otras.\n",
    "* Conocer la relación entre la variable predictora y la variable de salida\n",
    "* Error en los valores que han sido predecidos"
   ]
  },
  {
   "cell_type": "markdown",
   "metadata": {},
   "source": [
    "**P_Valor**\n",
    "\n",
    "Es necesario calcularse un estadístico t y un p_valor que garantice que la hipotesis nula es rechazada ($\\beta=0$) y que si existe covarianza entre las variables predictoras y a predecir.\n",
    "\n",
    "El test es a dos colas. p_valor < nivel de significancia. Pueden existir casos dónde el p_valor por ser tan grande no tiene gran significancia para el modelo.\n",
    "\n",
    "**Estadístico F**\n",
    "\n",
    "Se usa para comprobar que el conjunto de parémtros beta asociado a cada variable predictora sea significativo o no.\n",
    "\n",
    "Mirar el cambio al añadir una nueva variable predictora. Qué tanto se influencian entre sí. Ayuda a analizar la significancia en conjunto, puesto que se puede caer en el error de que individualmente se acepten y en conjunto no (p_valor muy grande)"
   ]
  },
  {
   "cell_type": "markdown",
   "metadata": {},
   "source": [
    "# Error estándar de los residuos (RSE)"
   ]
  },
  {
   "cell_type": "code",
   "execution_count": 93,
   "metadata": {},
   "outputs": [
    {
     "data": {
      "text/plain": [
       "0.8386023600174581"
      ]
     },
     "execution_count": 93,
     "metadata": {},
     "output_type": "execute_result"
    }
   ],
   "source": [
    "RSE=np.sqrt(SSD/(len(data)-2))\n",
    "RSE"
   ]
  },
  {
   "cell_type": "markdown",
   "metadata": {},
   "source": [
    "Cuanto menor sea RSE es mejor"
   ]
  },
  {
   "cell_type": "code",
   "execution_count": 94,
   "metadata": {},
   "outputs": [
    {
     "data": {
      "text/plain": [
       "8.933296723360357"
      ]
     },
     "execution_count": 94,
     "metadata": {},
     "output_type": "execute_result"
    }
   ],
   "source": [
    "y_mean[0]"
   ]
  },
  {
   "cell_type": "code",
   "execution_count": 95,
   "metadata": {},
   "outputs": [
    {
     "data": {
      "text/plain": [
       "0.09387378321650652"
      ]
     },
     "execution_count": 95,
     "metadata": {},
     "output_type": "execute_result"
    }
   ],
   "source": [
    "RSE/y_mean[0]"
   ]
  },
  {
   "cell_type": "code",
   "execution_count": null,
   "metadata": {},
   "outputs": [],
   "source": []
  }
 ],
 "metadata": {
  "kernelspec": {
   "display_name": "Python 3",
   "language": "python",
   "name": "python3"
  },
  "language_info": {
   "codemirror_mode": {
    "name": "ipython",
    "version": 3
   },
   "file_extension": ".py",
   "mimetype": "text/x-python",
   "name": "python",
   "nbconvert_exporter": "python",
   "pygments_lexer": "ipython3",
   "version": "3.6.8"
  },
  "toc": {
   "base_numbering": 1,
   "nav_menu": {},
   "number_sections": true,
   "sideBar": true,
   "skip_h1_title": false,
   "title_cell": "Table of Contents",
   "title_sidebar": "Contents",
   "toc_cell": false,
   "toc_position": {},
   "toc_section_display": true,
   "toc_window_display": false
  }
 },
 "nbformat": 4,
 "nbformat_minor": 2
}
